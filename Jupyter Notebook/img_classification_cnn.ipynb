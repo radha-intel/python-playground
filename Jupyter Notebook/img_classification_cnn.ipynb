{
 "cells": [
  {
   "cell_type": "code",
   "execution_count": 1,
   "id": "ff9e5c03",
   "metadata": {},
   "outputs": [],
   "source": [
    "import numpy as np\n",
    "import tensorflow as tf\n",
    "from tensorflow import keras"
   ]
  },
  {
   "cell_type": "code",
   "execution_count": 2,
   "id": "c8ed6cdb",
   "metadata": {},
   "outputs": [],
   "source": [
    "#loading the dataset\n",
    "data = keras.datasets.mnist\n",
    "(train_img, train_label), (test_img, test_label) = data.load_data()"
   ]
  },
  {
   "cell_type": "code",
   "execution_count": 3,
   "id": "b3e797c0",
   "metadata": {},
   "outputs": [
    {
     "name": "stdout",
     "output_type": "stream",
     "text": [
      "size of train_img (60000, 28, 28)\n",
      "size of train_label (60000,)\n",
      "size of test_img (10000, 28, 28)\n",
      "size of test_label (10000,)\n"
     ]
    }
   ],
   "source": [
    "#Check the size\n",
    "print(\"size of train_img\", train_img.shape)\n",
    "print(\"size of train_label\", train_label.shape)\n",
    "print(\"size of test_img\", test_img.shape)\n",
    "print(\"size of test_label\", test_label.shape)"
   ]
  },
  {
   "cell_type": "code",
   "execution_count": 4,
   "id": "7bc8c957",
   "metadata": {},
   "outputs": [],
   "source": [
    "train_img = train_img.reshape(train_img.shape[0], 28, 28, 1)\n",
    "test_img = test_img.reshape(test_img.shape[0], 28, 28, 1)\n",
    "train_img  = train_img/255.0\n",
    "test_img = test_img/255.0"
   ]
  },
  {
   "cell_type": "code",
   "execution_count": 5,
   "id": "875c7c86",
   "metadata": {},
   "outputs": [],
   "source": [
    "#building the model\n",
    "model = keras.Sequential()\n",
    "model.add(keras.layers.Conv2D(28, kernel_size=(3,3), input_shape=(28,28,1)))\n",
    "model.add(keras.layers.MaxPooling2D(pool_size=(2, 2)))\n",
    "model.add(keras.layers.Flatten()) # Flattening the 2D arrays for fully connected layers\n",
    "model.add(keras.layers.Dense(128, activation=\"relu\"))\n",
    "model.add(keras.layers.Dropout(0.2))\n",
    "model.add(keras.layers.Dense(10,activation=\"softmax\"))"
   ]
  },
  {
   "cell_type": "code",
   "execution_count": 6,
   "id": "0a960337",
   "metadata": {},
   "outputs": [
    {
     "name": "stdout",
     "output_type": "stream",
     "text": [
      "Epoch 1/10\n",
      "1875/1875 [==============================] - 13s 7ms/step - loss: 0.2049 - accuracy: 0.9381\n",
      "Epoch 2/10\n",
      "1875/1875 [==============================] - 14s 7ms/step - loss: 0.0829 - accuracy: 0.9746\n",
      "Epoch 3/10\n",
      "1875/1875 [==============================] - 17s 9ms/step - loss: 0.0550 - accuracy: 0.9826\n",
      "Epoch 4/10\n",
      "1875/1875 [==============================] - 19s 10ms/step - loss: 0.0428 - accuracy: 0.9862\n",
      "Epoch 5/10\n",
      "1875/1875 [==============================] - 19s 10ms/step - loss: 0.0343 - accuracy: 0.9891\n",
      "Epoch 6/10\n",
      "1875/1875 [==============================] - 18s 9ms/step - loss: 0.0266 - accuracy: 0.9910\n",
      "Epoch 7/10\n",
      "1875/1875 [==============================] - 18s 10ms/step - loss: 0.0224 - accuracy: 0.9923\n",
      "Epoch 8/10\n",
      "1875/1875 [==============================] - 16s 8ms/step - loss: 0.0211 - accuracy: 0.9930\n",
      "Epoch 9/10\n",
      "1875/1875 [==============================] - 16s 9ms/step - loss: 0.0195 - accuracy: 0.9934\n",
      "Epoch 10/10\n",
      "1875/1875 [==============================] - 16s 9ms/step - loss: 0.0166 - accuracy: 0.9942\n"
     ]
    },
    {
     "data": {
      "text/plain": [
       "<tensorflow.python.keras.callbacks.History at 0x24e66234190>"
      ]
     },
     "execution_count": 6,
     "metadata": {},
     "output_type": "execute_result"
    }
   ],
   "source": [
    "#training the model\n",
    "model.compile(optimizer=\"adam\", loss=\"sparse_categorical_crossentropy\", metrics=[\"accuracy\"])\n",
    "model.fit(train_img, train_label, epochs=10)"
   ]
  },
  {
   "cell_type": "code",
   "execution_count": 7,
   "id": "7c036bbd",
   "metadata": {},
   "outputs": [
    {
     "name": "stdout",
     "output_type": "stream",
     "text": [
      "313/313 [==============================] - 1s 3ms/step - loss: 0.0601 - accuracy: 0.9846\n",
      "Loss: 0.06007486581802368\n",
      "Accuracy: 0.9846000075340271\n"
     ]
    }
   ],
   "source": [
    "#evaluating the model\n",
    "loss, acc = model.evaluate(test_img, test_label)\n",
    "\n",
    "print(\"Loss:\", loss)\n",
    "print(\"Accuracy:\", acc)"
   ]
  }
 ],
 "metadata": {
  "kernelspec": {
   "display_name": "Python 3",
   "language": "python",
   "name": "python3"
  },
  "language_info": {
   "codemirror_mode": {
    "name": "ipython",
    "version": 3
   },
   "file_extension": ".py",
   "mimetype": "text/x-python",
   "name": "python",
   "nbconvert_exporter": "python",
   "pygments_lexer": "ipython3",
   "version": "3.8.8"
  }
 },
 "nbformat": 4,
 "nbformat_minor": 5
}
