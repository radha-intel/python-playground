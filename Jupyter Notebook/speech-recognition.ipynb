{
 "cells": [
  {
   "cell_type": "code",
   "execution_count": 1,
   "id": "cc4daf73",
   "metadata": {},
   "outputs": [],
   "source": [
    "import os\n",
    "import io\n",
    "import json\n",
    "import librosa\n",
    "import numpy as np\n",
    "import tensorflow as tf\n",
    "import matplotlib.pyplot as plt\n",
    "from sklearn.model_selection import train_test_split"
   ]
  },
  {
   "cell_type": "code",
   "execution_count": 2,
   "id": "393de80a",
   "metadata": {},
   "outputs": [],
   "source": [
    "#Loads training dataset from json file\n",
    "with open(\"data.json\", \"r\") as fp:\n",
    "    data = json.load(fp)\n",
    "\n",
    "X = np.array(data[\"MFCCs\"])\n",
    "y = np.array(data[\"labels\"])"
   ]
  },
  {
   "cell_type": "code",
   "execution_count": 3,
   "id": "a49b9067",
   "metadata": {},
   "outputs": [],
   "source": [
    "# create train, validation, test split\n",
    "train_img, test_img, train_label, test_label = train_test_split(X, y, test_size=0.2)\n",
    "train_img, validation_img, train_label, validation_label = train_test_split(train_img, train_label, test_size=0.2)"
   ]
  },
  {
   "cell_type": "code",
   "execution_count": 4,
   "id": "0037b5c4",
   "metadata": {},
   "outputs": [],
   "source": [
    "# add an axis to nd array\n",
    "train_img = train_img[..., np.newaxis]\n",
    "test_img = test_img[..., np.newaxis]\n",
    "validation_img = validation_img[..., np.newaxis]"
   ]
  },
  {
   "cell_type": "code",
   "execution_count": 5,
   "id": "d09ddd06",
   "metadata": {},
   "outputs": [],
   "source": [
    "input_shape = (train_img.shape[1], train_img.shape[2], 1)"
   ]
  },
  {
   "cell_type": "code",
   "execution_count": 6,
   "id": "953af15a",
   "metadata": {},
   "outputs": [],
   "source": [
    "model = tf.keras.models.Sequential()\n",
    "\n",
    "model.add(tf.keras.layers.Conv2D(64, kernel_size=(3,3), activation=\"relu\", input_shape=input_shape))\n",
    "model.add(tf.keras.layers.MaxPooling2D(pool_size=(2, 2), strides=(1,1), padding='same'))\n",
    "model.add(tf.keras.layers.Conv2D(64, kernel_size=(3,3), activation=\"relu\"))\n",
    "model.add(tf.keras.layers.MaxPooling2D(pool_size=(2, 2)))\n",
    "model.add(tf.keras.layers.Conv2D(128, kernel_size=(3,3), activation=\"relu\"))\n",
    "model.add(tf.keras.layers.MaxPooling2D(pool_size=(2, 2)))\n",
    "model.add(tf.keras.layers.Flatten()) # Flattening the 2D arrays for fully connected layers\n",
    "model.add(tf.keras.layers.Dense(128, activation=\"relu\"))\n",
    "model.add(tf.keras.layers.Dropout(0.2))\n",
    "model.add(tf.keras.layers.Dense(64, activation=\"relu\"))\n",
    "model.add(tf.keras.layers.Dropout(0.25))\n",
    "model.add(tf.keras.layers.Dense(32, activation=\"relu\"))\n",
    "model.add(tf.keras.layers.Dropout(0.3))\n",
    "model.add(tf.keras.layers.Dense(10,activation=\"softmax\"))\n",
    "# print model parameters on console\n",
    "#model.summary()"
   ]
  },
  {
   "cell_type": "code",
   "execution_count": 7,
   "id": "3fbdc5f5",
   "metadata": {},
   "outputs": [
    {
     "name": "stdout",
     "output_type": "stream",
     "text": [
      "Epoch 1/50\n",
      "427/427 [==============================] - 34s 80ms/step - loss: 2.0691 - accuracy: 0.2447 - val_loss: 1.3663 - val_accuracy: 0.5199\n",
      "Epoch 2/50\n",
      "427/427 [==============================] - 34s 80ms/step - loss: 1.2805 - accuracy: 0.5173 - val_loss: 0.8622 - val_accuracy: 0.7006\n",
      "Epoch 3/50\n",
      "427/427 [==============================] - 36s 85ms/step - loss: 0.8871 - accuracy: 0.6814 - val_loss: 0.5798 - val_accuracy: 0.8026\n",
      "Epoch 4/50\n",
      "427/427 [==============================] - 37s 86ms/step - loss: 0.6464 - accuracy: 0.7774 - val_loss: 0.4218 - val_accuracy: 0.8630\n",
      "Epoch 5/50\n",
      "427/427 [==============================] - 37s 86ms/step - loss: 0.5325 - accuracy: 0.8286 - val_loss: 0.4184 - val_accuracy: 0.8669\n",
      "Epoch 6/50\n",
      "427/427 [==============================] - 37s 86ms/step - loss: 0.4407 - accuracy: 0.8589 - val_loss: 0.3941 - val_accuracy: 0.8727\n",
      "Epoch 7/50\n",
      "427/427 [==============================] - 37s 86ms/step - loss: 0.3822 - accuracy: 0.8790 - val_loss: 0.3496 - val_accuracy: 0.8877\n",
      "Epoch 8/50\n",
      "427/427 [==============================] - 37s 86ms/step - loss: 0.3346 - accuracy: 0.8958 - val_loss: 0.3656 - val_accuracy: 0.8891\n",
      "Epoch 9/50\n",
      "427/427 [==============================] - 37s 86ms/step - loss: 0.3160 - accuracy: 0.9030 - val_loss: 0.3555 - val_accuracy: 0.9029\n",
      "Epoch 10/50\n",
      "427/427 [==============================] - 37s 87ms/step - loss: 0.2718 - accuracy: 0.9180 - val_loss: 0.3066 - val_accuracy: 0.9088\n",
      "Epoch 11/50\n",
      "427/427 [==============================] - 39s 90ms/step - loss: 0.2670 - accuracy: 0.9180 - val_loss: 0.3676 - val_accuracy: 0.8947\n",
      "Epoch 12/50\n",
      "427/427 [==============================] - 38s 88ms/step - loss: 0.2342 - accuracy: 0.9285 - val_loss: 0.3529 - val_accuracy: 0.9041\n",
      "Epoch 13/50\n",
      "427/427 [==============================] - 37s 87ms/step - loss: 0.2252 - accuracy: 0.9352 - val_loss: 0.3633 - val_accuracy: 0.9065\n",
      "Epoch 14/50\n",
      "427/427 [==============================] - 37s 86ms/step - loss: 0.2022 - accuracy: 0.9372 - val_loss: 0.4013 - val_accuracy: 0.8959\n",
      "Epoch 15/50\n",
      "427/427 [==============================] - 37s 86ms/step - loss: 0.1919 - accuracy: 0.9430 - val_loss: 0.3367 - val_accuracy: 0.9120\n",
      "Epoch 16/50\n",
      "427/427 [==============================] - 37s 86ms/step - loss: 0.1784 - accuracy: 0.9467 - val_loss: 0.3060 - val_accuracy: 0.9158\n",
      "Epoch 17/50\n",
      "427/427 [==============================] - 37s 86ms/step - loss: 0.1756 - accuracy: 0.9468 - val_loss: 0.3552 - val_accuracy: 0.9079\n",
      "Epoch 18/50\n",
      "427/427 [==============================] - 37s 87ms/step - loss: 0.1874 - accuracy: 0.9435 - val_loss: 0.4084 - val_accuracy: 0.9015\n",
      "Epoch 19/50\n",
      "427/427 [==============================] - 37s 86ms/step - loss: 0.1532 - accuracy: 0.9546 - val_loss: 0.4593 - val_accuracy: 0.9000\n",
      "Epoch 20/50\n",
      "427/427 [==============================] - 37s 86ms/step - loss: 0.1560 - accuracy: 0.9540 - val_loss: 0.3611 - val_accuracy: 0.9126\n",
      "Epoch 21/50\n",
      "427/427 [==============================] - 37s 87ms/step - loss: 0.1191 - accuracy: 0.9652 - val_loss: 0.4350 - val_accuracy: 0.9109\n",
      "Epoch 22/50\n",
      "427/427 [==============================] - 37s 86ms/step - loss: 0.1429 - accuracy: 0.9596 - val_loss: 0.3659 - val_accuracy: 0.9067\n",
      "Epoch 23/50\n",
      "427/427 [==============================] - 37s 86ms/step - loss: 0.1269 - accuracy: 0.9614 - val_loss: 0.3881 - val_accuracy: 0.9211\n",
      "Epoch 24/50\n",
      "427/427 [==============================] - 37s 86ms/step - loss: 0.1148 - accuracy: 0.9675 - val_loss: 0.4280 - val_accuracy: 0.9079\n",
      "Epoch 25/50\n",
      "427/427 [==============================] - 37s 86ms/step - loss: 0.1412 - accuracy: 0.9603 - val_loss: 0.3859 - val_accuracy: 0.9170\n",
      "Epoch 26/50\n",
      "427/427 [==============================] - 37s 86ms/step - loss: 0.1211 - accuracy: 0.9633 - val_loss: 0.4482 - val_accuracy: 0.9088\n",
      "Epoch 27/50\n",
      "427/427 [==============================] - 37s 86ms/step - loss: 0.1071 - accuracy: 0.9688 - val_loss: 0.4113 - val_accuracy: 0.9217\n",
      "Epoch 28/50\n",
      "427/427 [==============================] - 37s 86ms/step - loss: 0.1176 - accuracy: 0.9660 - val_loss: 0.4002 - val_accuracy: 0.9138\n",
      "Epoch 29/50\n",
      "427/427 [==============================] - 38s 88ms/step - loss: 0.0979 - accuracy: 0.9709 - val_loss: 0.4879 - val_accuracy: 0.9041\n",
      "Epoch 30/50\n",
      "427/427 [==============================] - 37s 86ms/step - loss: 0.1076 - accuracy: 0.9709 - val_loss: 0.5118 - val_accuracy: 0.9029\n",
      "Epoch 31/50\n",
      "427/427 [==============================] - 37s 86ms/step - loss: 0.1139 - accuracy: 0.9702 - val_loss: 0.4365 - val_accuracy: 0.9173\n",
      "Epoch 32/50\n",
      "427/427 [==============================] - 39s 91ms/step - loss: 0.1069 - accuracy: 0.9712 - val_loss: 0.4885 - val_accuracy: 0.9044\n",
      "Epoch 33/50\n",
      "427/427 [==============================] - 37s 87ms/step - loss: 0.1020 - accuracy: 0.9731 - val_loss: 0.4718 - val_accuracy: 0.9097\n",
      "Epoch 34/50\n",
      "427/427 [==============================] - 37s 87ms/step - loss: 0.0899 - accuracy: 0.9760 - val_loss: 0.5700 - val_accuracy: 0.9029\n",
      "Epoch 35/50\n",
      "427/427 [==============================] - 37s 86ms/step - loss: 0.0916 - accuracy: 0.9735 - val_loss: 0.4949 - val_accuracy: 0.9067\n",
      "Epoch 36/50\n",
      "427/427 [==============================] - 37s 86ms/step - loss: 0.1103 - accuracy: 0.9679 - val_loss: 0.4274 - val_accuracy: 0.9173\n",
      "Epoch 37/50\n",
      "427/427 [==============================] - 37s 87ms/step - loss: 0.0898 - accuracy: 0.9758 - val_loss: 0.5198 - val_accuracy: 0.8985\n",
      "Epoch 38/50\n",
      "427/427 [==============================] - 39s 90ms/step - loss: 0.0946 - accuracy: 0.9739 - val_loss: 0.4535 - val_accuracy: 0.9085\n",
      "Epoch 39/50\n",
      "427/427 [==============================] - 38s 90ms/step - loss: 0.0728 - accuracy: 0.9791 - val_loss: 0.6153 - val_accuracy: 0.8935\n",
      "Epoch 40/50\n",
      "427/427 [==============================] - 37s 86ms/step - loss: 0.1016 - accuracy: 0.9716 - val_loss: 0.4500 - val_accuracy: 0.9076\n",
      "Epoch 41/50\n",
      "427/427 [==============================] - 39s 91ms/step - loss: 0.0688 - accuracy: 0.9804 - val_loss: 0.5129 - val_accuracy: 0.9047\n",
      "Epoch 42/50\n",
      "427/427 [==============================] - 37s 86ms/step - loss: 0.1222 - accuracy: 0.9696 - val_loss: 0.4875 - val_accuracy: 0.8965\n",
      "Epoch 43/50\n",
      "427/427 [==============================] - 35s 83ms/step - loss: 0.0877 - accuracy: 0.9740 - val_loss: 0.5054 - val_accuracy: 0.9179\n",
      "Epoch 44/50\n",
      "427/427 [==============================] - 36s 85ms/step - loss: 0.0580 - accuracy: 0.9840 - val_loss: 0.5499 - val_accuracy: 0.9211\n",
      "Epoch 45/50\n",
      "427/427 [==============================] - 36s 83ms/step - loss: 0.0651 - accuracy: 0.9815 - val_loss: 0.6376 - val_accuracy: 0.9050\n",
      "Epoch 46/50\n",
      "427/427 [==============================] - 36s 84ms/step - loss: 0.0849 - accuracy: 0.9747 - val_loss: 0.5355 - val_accuracy: 0.9173\n",
      "Epoch 47/50\n",
      "427/427 [==============================] - 35s 83ms/step - loss: 0.0879 - accuracy: 0.9780 - val_loss: 0.6265 - val_accuracy: 0.9012\n",
      "Epoch 48/50\n",
      "427/427 [==============================] - 36s 84ms/step - loss: 0.0704 - accuracy: 0.9802 - val_loss: 0.5326 - val_accuracy: 0.9170\n",
      "Epoch 49/50\n",
      "427/427 [==============================] - 36s 84ms/step - loss: 0.0620 - accuracy: 0.9844 - val_loss: 0.6159 - val_accuracy: 0.9150\n",
      "Epoch 50/50\n",
      "427/427 [==============================] - 36s 84ms/step - loss: 0.0775 - accuracy: 0.9794 - val_loss: 0.6432 - val_accuracy: 0.9111\n"
     ]
    },
    {
     "data": {
      "text/plain": [
       "<tensorflow.python.keras.callbacks.History at 0x1d91ef22b80>"
      ]
     },
     "execution_count": 7,
     "metadata": {},
     "output_type": "execute_result"
    }
   ],
   "source": [
    "# compile model\n",
    "model.compile(optimizer=\"adam\", loss=\"sparse_categorical_crossentropy\", metrics=[\"accuracy\"])\n",
    "\n",
    "#train the model\n",
    "model.fit(train_img, train_label, epochs=50 , validation_data=(validation_img, validation_label))"
   ]
  },
  {
   "cell_type": "code",
   "execution_count": 8,
   "id": "f022c50a",
   "metadata": {
    "scrolled": true
   },
   "outputs": [
    {
     "name": "stdout",
     "output_type": "stream",
     "text": [
      "134/134 [==============================] - 3s 20ms/step - loss: 0.5868 - accuracy: 0.9125\n",
      "loss:  0.5868441462516785\n",
      "accuracy:  0.9125029444694519\n"
     ]
    }
   ],
   "source": [
    "# evaluate network on test set\n",
    "test_loss, test_acc = model.evaluate(test_img, test_label)\n",
    "print(\"loss: \" , test_loss)\n",
    "print(\"accuracy: \", test_acc)"
   ]
  },
  {
   "cell_type": "code",
   "execution_count": 9,
   "id": "a27a2795",
   "metadata": {},
   "outputs": [],
   "source": [
    "#make prediction\n",
    "file_path = \"up.wav\"\n",
    "signal, sample_rate = librosa.load(file_path)\n"
   ]
  },
  {
   "cell_type": "code",
   "execution_count": 10,
   "id": "91f0c0db",
   "metadata": {},
   "outputs": [],
   "source": [
    "SAMPLES_TO_CONSIDER = 22050 #samples in 1 sec\n",
    "if len(signal) >= SAMPLES_TO_CONSIDER:\n",
    "            # ensure consistency of the length of the signal\n",
    "            signal = signal[:SAMPLES_TO_CONSIDER]\n",
    "\n",
    "            # extract MFCCs\n",
    "            MFCCs = librosa.feature.mfcc(signal, sample_rate)\n",
    "            \n",
    "MGCCs = MFCCs.T\n",
    "\n",
    "# we need a 4-dim array to feed to the model for prediction: (# samples, # time steps, # coefficients, 1)\n",
    "MFCCs = MFCCs[np.newaxis, ..., np.newaxis]"
   ]
  },
  {
   "cell_type": "code",
   "execution_count": 11,
   "id": "bcca41df",
   "metadata": {},
   "outputs": [
    {
     "name": "stdout",
     "output_type": "stream",
     "text": [
      "['down' 'go' 'left' 'no' 'off' 'on' 'right' 'stop' 'up' 'yes']\n"
     ]
    }
   ],
   "source": [
    "mapping = np.array(data[\"mapping\"])\n",
    "print(mapping)"
   ]
  },
  {
   "cell_type": "code",
   "execution_count": 12,
   "id": "352bfc5b",
   "metadata": {},
   "outputs": [
    {
     "name": "stdout",
     "output_type": "stream",
     "text": [
      "WARNING:tensorflow:Model was constructed with shape (None, 44, 20, 1) for input Tensor(\"conv2d_input:0\", shape=(None, 44, 20, 1), dtype=float32), but it was called on an input with incompatible shape (None, 20, 44, 1).\n",
      "[0. 0. 0. 0. 1. 0. 0. 0. 0. 0.]\n",
      "off\n"
     ]
    }
   ],
   "source": [
    "# get the predicted label\n",
    "predictions = model.predict(MFCCs)[0]\n",
    "print(predictions)\n",
    "predicted_index = np.argmax(predictions)\n",
    "predicted_keyword = mapping[predicted_index]\n",
    "print(predicted_keyword)"
   ]
  },
  {
   "cell_type": "code",
   "execution_count": 13,
   "id": "94f9f0c3",
   "metadata": {},
   "outputs": [
    {
     "name": "stdout",
     "output_type": "stream",
     "text": [
      "{'down': 0.0, 'go': 0.0, 'left': 0.0, 'no': 0.0, 'off': 100.0, 'on': 0.0, 'right': 0.0, 'stop': 0.0, 'up': 0.0, 'yes': 0.0}\n"
     ]
    }
   ],
   "source": [
    "res = {mapping[i]: round(predictions[i]*100,2) for i in range(len(mapping))}\n",
    "print(str(res))"
   ]
  },
  {
   "cell_type": "code",
   "execution_count": 14,
   "id": "9729b21f",
   "metadata": {},
   "outputs": [],
   "source": [
    "file_path = \"speech_test/stop.wav\"\n",
    "signal, sample_rate = librosa.load(file_path)\n"
   ]
  },
  {
   "cell_type": "code",
   "execution_count": 15,
   "id": "bf95b2c6",
   "metadata": {},
   "outputs": [],
   "source": [
    "SAMPLES_TO_CONSIDER = 22050 #samples in 1 sec\n",
    "if len(signal) >= SAMPLES_TO_CONSIDER:\n",
    "            # ensure consistency of the length of the signal\n",
    "            signal = signal[:SAMPLES_TO_CONSIDER]\n",
    "           # extract MFCCs\n",
    "MFCCs = librosa.feature.mfcc(signal, sample_rate)\n",
    "            \n",
    "MGCCs = MFCCs.T\n",
    "\n",
    "# we need a 4-dim array to feed to the model for prediction: (# samples, # time steps, # coefficients, 1)\n",
    "MFCCs = MFCCs[np.newaxis, ..., np.newaxis]"
   ]
  },
  {
   "cell_type": "code",
   "execution_count": 16,
   "id": "8bc21b77",
   "metadata": {},
   "outputs": [
    {
     "name": "stdout",
     "output_type": "stream",
     "text": [
      "[0. 0. 0. 0. 1. 0. 0. 0. 0. 0.]\n",
      "off\n"
     ]
    }
   ],
   "source": [
    "# get the predicted label\n",
    "predictions = model.predict(MFCCs)[0]\n",
    "print(predictions)\n",
    "predicted_index = np.argmax(predictions)\n",
    "predicted_keyword = mapping[predicted_index]\n",
    "print(predicted_keyword)"
   ]
  },
  {
   "cell_type": "code",
   "execution_count": 17,
   "id": "5267fe4f",
   "metadata": {},
   "outputs": [
    {
     "name": "stdout",
     "output_type": "stream",
     "text": [
      "{'down': 0.0, 'go': 0.0, 'left': 0.0, 'no': 0.0, 'off': 100.0, 'on': 0.0, 'right': 0.0, 'stop': 0.0, 'up': 0.0, 'yes': 0.0}\n"
     ]
    }
   ],
   "source": [
    "res = {mapping[i]: round(predictions[i]*100,2) for i in range(len(mapping))}\n",
    "print(str(res))"
   ]
  },
  {
   "cell_type": "code",
   "execution_count": null,
   "id": "8a62ce57",
   "metadata": {},
   "outputs": [],
   "source": []
  }
 ],
 "metadata": {
  "kernelspec": {
   "display_name": "Python 3",
   "language": "python",
   "name": "python3"
  },
  "language_info": {
   "codemirror_mode": {
    "name": "ipython",
    "version": 3
   },
   "file_extension": ".py",
   "mimetype": "text/x-python",
   "name": "python",
   "nbconvert_exporter": "python",
   "pygments_lexer": "ipython3",
   "version": "3.8.8"
  }
 },
 "nbformat": 4,
 "nbformat_minor": 5
}
